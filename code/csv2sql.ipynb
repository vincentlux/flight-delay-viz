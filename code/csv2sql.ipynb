{
 "cells": [
  {
   "cell_type": "code",
   "execution_count": 2,
   "metadata": {},
   "outputs": [],
   "source": [
    "import os\n",
    "import pymysql\n",
    "import sys\n",
    "import pandas as pd\n",
    "import numpy as np\n",
    "import glob\n",
    "import passw"
   ]
  },
  {
   "cell_type": "code",
   "execution_count": 32,
   "metadata": {},
   "outputs": [],
   "source": [
    "REGION = 'us-east-2-c'\n",
    "host  = passw.HOST\n",
    "user = passw.USER\n",
    "password = passw.PASS\n",
    "db = \"vincentlux\"\n",
    "charset = \"utf8mb4\"\n",
    "csv_path = \"/Volumes/Vincent/2018FALL/inls641/airline_delay/0117_1217_unzipped/*/*.csv\""
   ]
  },
  {
   "cell_type": "code",
   "execution_count": 59,
   "metadata": {},
   "outputs": [],
   "source": [
    "def process_csv():\n",
    "    '''\n",
    "    to process 12 month files and return them as a single pandas df\n",
    "    '''\n",
    "    all_data = pd.DataFrame()\n",
    "    first = True\n",
    "    try:\n",
    "        for file in glob.glob(csv_path):\n",
    "            if first:\n",
    "                df = pd.read_csv(file)\n",
    "                df = df[df.columns.drop(list(df.filter(regex='Div')))]\n",
    "                all_data = all_data.append(df, ignore_index=True)\n",
    "                first = False\n",
    "            else:\n",
    "                df = pd.read_csv(file, header=None)\n",
    "                df = df[df.columns.drop(list(df.filter(regex='Div')))]\n",
    "                all_data = all_data.append(df, ignore_index=True)\n",
    "                \n",
    "        return all_data\n",
    "    except Exception as e:\n",
    "        print(e)\n",
    "        \n",
    "    "
   ]
  },
  {
   "cell_type": "code",
   "execution_count": 3,
   "metadata": {},
   "outputs": [
    {
     "name": "stderr",
     "output_type": "stream",
     "text": [
      "/anaconda/envs/py36/lib/python3.6/site-packages/IPython/core/interactiveshell.py:2785: DtypeWarning: Columns (5,6,8,9,14,15,16,18,23,24,25,27,35,46,48,64,65,66,67,68,69,70,71,72,73,74,75,76,77,78,79,80,81,82,83,84,85,86,87,88,89,90,91,92,93,94,95,96,97,98,99,100,101,102,103,104,105,106,107,108,109,110,111,112,113,114,115,116,117,118,119,120,121,122,123,124,125,126,127,128,129,130,131,132,133,134,135,136,137,138,139,140,141,142,143,144,145,146,147,148,149,150,151,152,153,154,155,156,157,158,159,160,161,162,163,164,165,166,167,168,169,170,171,172) have mixed types. Specify dtype option on import or set low_memory=False.\n",
      "  interactivity=interactivity, compiler=compiler, result=result)\n"
     ]
    },
    {
     "data": {
      "text/plain": [
       "<bound method Series.sum of 0          False\n",
       "1          False\n",
       "2          False\n",
       "3          False\n",
       "4          False\n",
       "5          False\n",
       "6          False\n",
       "7          False\n",
       "8          False\n",
       "9          False\n",
       "10         False\n",
       "11         False\n",
       "12         False\n",
       "13         False\n",
       "14         False\n",
       "15         False\n",
       "16         False\n",
       "17         False\n",
       "18         False\n",
       "19         False\n",
       "20         False\n",
       "21         False\n",
       "22         False\n",
       "23         False\n",
       "24         False\n",
       "25         False\n",
       "26         False\n",
       "27         False\n",
       "28         False\n",
       "29         False\n",
       "           ...  \n",
       "5674602     True\n",
       "5674603     True\n",
       "5674604     True\n",
       "5674605     True\n",
       "5674606     True\n",
       "5674607     True\n",
       "5674608     True\n",
       "5674609     True\n",
       "5674610     True\n",
       "5674611     True\n",
       "5674612     True\n",
       "5674613     True\n",
       "5674614     True\n",
       "5674615     True\n",
       "5674616     True\n",
       "5674617     True\n",
       "5674618     True\n",
       "5674619     True\n",
       "5674620     True\n",
       "5674621     True\n",
       "5674622     True\n",
       "5674623     True\n",
       "5674624     True\n",
       "5674625     True\n",
       "5674626     True\n",
       "5674627     True\n",
       "5674628     True\n",
       "5674629     True\n",
       "5674630     True\n",
       "5674631     True\n",
       "Name: Year, Length: 5674632, dtype: bool>"
      ]
     },
     "execution_count": 3,
     "metadata": {},
     "output_type": "execute_result"
    }
   ],
   "source": [
    "test = pd.read_csv(\"flight_2017.csv\")"
   ]
  },
  {
   "cell_type": "code",
   "execution_count": 8,
   "metadata": {},
   "outputs": [],
   "source": [
    "test_sub = test.dropna(subset=['Year'])"
   ]
  },
  {
   "cell_type": "code",
   "execution_count": null,
   "metadata": {},
   "outputs": [],
   "source": []
  },
  {
   "cell_type": "code",
   "execution_count": null,
   "metadata": {},
   "outputs": [],
   "source": []
  },
  {
   "cell_type": "code",
   "execution_count": null,
   "metadata": {},
   "outputs": [],
   "source": []
  },
  {
   "cell_type": "code",
   "execution_count": null,
   "metadata": {},
   "outputs": [],
   "source": [
    "if __name__ == \"__main__\":\n",
    "    # all_data = process_csv()\n",
    "    # all_data.to_csv(\"flight_2017.csv\", encoding=\"utf-8\", index=False, header=True)"
   ]
  },
  {
   "cell_type": "code",
   "execution_count": 16,
   "metadata": {},
   "outputs": [],
   "source": [
    "def get_sql_connection(host='',user='',password='',db='',charset=''):\n",
    "    connection = pymysql.connect(host=host,\n",
    "                             user=user,\n",
    "                             password=password,\n",
    "                             db=db,\n",
    "                             charset=charset)\n",
    "    return connection"
   ]
  },
  {
   "cell_type": "code",
   "execution_count": 17,
   "metadata": {},
   "outputs": [],
   "source": [
    "def add_to_sql():\n",
    "    connection = get_sql_connection(host, user, password, db, charset)\n",
    "    cursor = connection.cursor()\n",
    "    sql = \"\"\n",
    "    n = cursor.execute(sql)\n",
    "    result = cursor.fetchall()"
   ]
  },
  {
   "cell_type": "code",
   "execution_count": null,
   "metadata": {},
   "outputs": [],
   "source": []
  }
 ],
 "metadata": {
  "kernelspec": {
   "display_name": "Python 3",
   "language": "python",
   "name": "python3"
  },
  "language_info": {
   "codemirror_mode": {
    "name": "ipython",
    "version": 3
   },
   "file_extension": ".py",
   "mimetype": "text/x-python",
   "name": "python",
   "nbconvert_exporter": "python",
   "pygments_lexer": "ipython3",
   "version": "3.6.5"
  }
 },
 "nbformat": 4,
 "nbformat_minor": 2
}
