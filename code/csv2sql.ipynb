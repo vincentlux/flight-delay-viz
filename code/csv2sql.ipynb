{
 "cells": [
  {
   "cell_type": "code",
   "execution_count": 1,
   "metadata": {},
   "outputs": [],
   "source": [
    "import os\n",
    "import pymysql\n",
    "import sys\n",
    "import pandas as pd\n",
    "import numpy as np\n",
    "import glob\n",
    "import passw"
   ]
  },
  {
   "cell_type": "code",
   "execution_count": 2,
   "metadata": {},
   "outputs": [],
   "source": [
    "REGION = 'us-east-2-c'\n",
    "host  = passw.HOST\n",
    "user = passw.USER\n",
    "password = passw.PASS\n",
    "db = \"vincentlux\"\n",
    "charset = \"utf8mb4\"\n",
    "csv_path = \"/Volumes/Vincent/2018FALL/inls641/airline_delay/0117_1217_unzipped/*/*.csv\""
   ]
  },
  {
   "cell_type": "code",
   "execution_count": 3,
   "metadata": {},
   "outputs": [],
   "source": [
    "def process_csv():\n",
    "    '''\n",
    "    to process 12 month files and return them as a single pandas df\n",
    "    '''\n",
    "    all_data = pd.DataFrame()\n",
    "    first = True\n",
    "    try:\n",
    "        for file in glob.glob(csv_path):\n",
    "            if first:\n",
    "                df = pd.read_csv(file)\n",
    "                df = df[df.columns.drop(list(df.filter(regex='Div')))]\n",
    "                all_data = all_data.append(df, ignore_index=True)\n",
    "                first = False\n",
    "            else:\n",
    "                df = pd.read_csv(file, header=None)\n",
    "                df = df[df.columns.drop(list(df.filter(regex='Div')))]\n",
    "                all_data = all_data.append(df, ignore_index=True)\n",
    "                \n",
    "        return all_data\n",
    "    except Exception as e:\n",
    "        print(e)"
   ]
  },
  {
   "cell_type": "code",
   "execution_count": null,
   "metadata": {},
   "outputs": [],
   "source": []
  },
  {
   "cell_type": "code",
   "execution_count": null,
   "metadata": {},
   "outputs": [],
   "source": []
  },
  {
   "cell_type": "code",
   "execution_count": null,
   "metadata": {},
   "outputs": [],
   "source": [
    "test = pd.read_csv(\"flight_2017.csv\")\n",
    "\n",
    "test_sub = test.dropna(subset=['Year'])\n",
    "\n",
    "test_sub.head()\n"
   ]
  },
  {
   "cell_type": "code",
   "execution_count": 4,
   "metadata": {},
   "outputs": [],
   "source": [
    "def get_sql_connection(host='',user='',password='',db='',charset=''):\n",
    "    connection = pymysql.connect(host=host,\n",
    "                             user=user,\n",
    "                             password=password,\n",
    "                             db=db,\n",
    "                             charset=charset)\n",
    "    return connection\n",
    "\n",
    "def add_to_sql():\n",
    "    connection = get_sql_connection(host, user, password, db, charset)\n",
    "    cursor = connection.cursor()\n",
    "    sql = \"\"\n",
    "    n = cursor.execute(sql)\n",
    "    result = cursor.fetchall()"
   ]
  },
  {
   "cell_type": "code",
   "execution_count": null,
   "metadata": {},
   "outputs": [],
   "source": [
    "if __name__ == \"__main__\":\n",
    "    # all_data = process_csv()\n",
    "    # all_data.to_csv(\"flight_2017.csv\", encoding=\"utf-8\", index=False, header=True)"
   ]
  }
 ],
 "metadata": {
  "kernelspec": {
   "display_name": "Python 3",
   "language": "python",
   "name": "python3"
  },
  "language_info": {
   "codemirror_mode": {
    "name": "ipython",
    "version": 3
   },
   "file_extension": ".py",
   "mimetype": "text/x-python",
   "name": "python",
   "nbconvert_exporter": "python",
   "pygments_lexer": "ipython3",
   "version": "3.6.5"
  }
 },
 "nbformat": 4,
 "nbformat_minor": 2
}
